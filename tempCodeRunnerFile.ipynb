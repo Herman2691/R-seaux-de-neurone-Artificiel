#Teste
def predire_patient(
    Age, Sex, RestingBP, Cholesterol, FastingBS, MaxHR, Oldpeak,
    ChestPainType_ATA, ChestPainType_NAP, ChestPainType_TA,
    RestingECG_Normal, RestingECG_ST,
    ExerciseAngina_Y,
    ST_Slope_Flat, ST_Slope_Up
):
    # Créer la nouvelle observation
    x_new = [[
        Age, Sex, RestingBP, Cholesterol, FastingBS, MaxHR, Oldpeak,
        ChestPainType_ATA, ChestPainType_NAP, ChestPainType_TA,
        RestingECG_Normal, RestingECG_ST,
        ExerciseAngina_Y,
        ST_Slope_Flat, ST_Slope_Up
    ]]
    
    # Appliquer le scaler
    x_new_scaled = sc_X.transform(x_new)
    
    # Prédire
    y_pred = classifer.predict(x_new_scaled)[0]
    y_proba = classifer.predict_proba(x_new_scaled)[0]
    
    return y_pred, y_proba


# ----------------------------
# 🔹 Saisie des valeurs par l'utilisateur
# ----------------------------
print("Veuillez entrer les valeurs suivantes :")

Age = float(input("Âge : "))
Sex = int(input("Sexe (1=Homme, 0=Femme) : "))
RestingBP = float(input("Pression artérielle au repos : "))
Cholesterol = float(input("Cholestérol : "))
FastingBS = int(input("FastingBS (1 ou 0) : "))
MaxHR = float(input("MaxHR (fréquence cardiaque max) : "))
Oldpeak = float(input("Oldpeak : "))

# Variables one-hot (0 ou 1)
ChestPainType_ATA = int(input("ChestPainType_ATA (0 ou 1) : "))
ChestPainType_NAP = int(input("ChestPainType_NAP (0 ou 1) : "))
ChestPainType_TA = int(input("ChestPainType_TA (0 ou 1) : "))

RestingECG_Normal = int(input("RestingECG_Normal (0 ou 1) : "))
RestingECG_ST = int(input("RestingECG_ST (0 ou 1) : "))

ExerciseAngina_Y = int(input("ExerciseAngina_Y (0 ou 1) : "))

ST_Slope_Flat = int(input("ST_Slope_Flat (0 ou 1) : "))
ST_Slope_Up = int(input("ST_Slope_Up (0 ou 1) : "))

# ----------------------------
# 🔹 Appel de la fonction
# ----------------------------
prediction, proba = predire_patient(
    Age, Sex, RestingBP, Cholesterol, FastingBS, MaxHR, Oldpeak,
    ChestPainType_ATA, ChestPainType_NAP, ChestPainType_TA,
    RestingECG_Normal, RestingECG_ST,
    ExerciseAngina_Y,
    ST_Slope_Flat, ST_Slope_Up
)

print("\n✅ Résultat de la prédiction :", "Malade" if prediction == 1 else "Pas malade")
print("✅ Probabilités [Classe 0, Classe 1] :", proba)

